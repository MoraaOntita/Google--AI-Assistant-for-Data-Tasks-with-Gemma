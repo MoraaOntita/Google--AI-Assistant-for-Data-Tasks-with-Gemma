{
 "cells": [
  {
   "cell_type": "markdown",
   "metadata": {},
   "source": [
    "# Google - AI Assistant for Data Tasks with Gemma"
   ]
  },
  {
   "cell_type": "markdown",
   "metadata": {},
   "source": [
    "## Introduction"
   ]
  },
  {
   "cell_type": "markdown",
   "metadata": {},
   "source": [
    "This is my first time creating working with Gemma and I will show how I achieved the task. This will be a beginner friendly tutorial showing my understanding of using LLMs and LangChain\n",
    "\n",
    "Gemma is a new family of open LLMs. It is a family of light-weight open models built from the same research and technology used to create the multimodality-reasoning Gemini model. \n",
    "\n",
    "LangChain helps us to connect the AI model (Gemma) to the outside sources. It is a framework for developing applications powered by Language models. "
   ]
  },
  {
   "cell_type": "code",
   "execution_count": null,
   "metadata": {
    "vscode": {
     "languageId": "plaintext"
    }
   },
   "outputs": [],
   "source": []
  }
 ],
 "metadata": {
  "language_info": {
   "name": "python"
  }
 },
 "nbformat": 4,
 "nbformat_minor": 2
}
